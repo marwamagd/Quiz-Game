{
 "cells": [
  {
   "cell_type": "code",
   "execution_count": 1,
   "id": "6b5a1a84",
   "metadata": {},
   "outputs": [
    {
     "name": "stdout",
     "output_type": "stream",
     "text": [
      "Welcome you to in Quiz Game\n",
      "Do you want to play? yes\n",
      "OK, Lets GO :) \n",
      "1) what is meaning this word PC ?computer\n",
      "correct :)\n",
      "2) what is meaning this word SRAM ?ram\n",
      "uncorrect :(\n",
      "3) How many types of computer networks ?Operating System\n",
      "uncorrect :(\n",
      "4) what is meaning this word OS ?Operating System\n",
      "uncorrect :(\n",
      "5) What is the linux operating system ?Kernel\n",
      "uncorrect :(\n",
      "you got 1 answer correct!\n",
      "you got 20.0 %\n"
     ]
    }
   ],
   "source": [
    "\n",
    "print (\"Welcome you to in Quiz Game\")\n",
    "playing= input (\"Do you want to play? \")\n",
    "\n",
    "if playing != \"yes\":\n",
    "   quit()\n",
    "print (\"OK, Lets GO :) \")\n",
    "\n",
    "score = 0\n",
    "Aquestion = 0\n",
    "\n",
    "Aquestion += 1\n",
    "questions= input (\"1) what is meaning this word PC ?\") \n",
    "if questions.lower() == \"computer\":\n",
    "     score += 1\n",
    "     print (\"correct :)\")\n",
    "else:\n",
    "     print (\"uncorrect :(\")\n",
    " \n",
    "Aquestion += 1\n",
    "questions= input (\"2) what is meaning this word SRAM ?\") \n",
    "if questions.lower() == \"Static Random Access Memory\" :\n",
    "     score += 1\n",
    "     print (\"correct :)\")\n",
    "else:\n",
    "     print (\"uncorrect :(\")\n",
    "\n",
    "Aquestion += 1\n",
    "questions= input (\"3) How many types of computer networks ?\") \n",
    "if questions.lower() == \"4\" :\n",
    "     score += 1\n",
    "     print (\"correct :)\")\n",
    "else:\n",
    "     print (\"uncorrect :(\")\n",
    "    \n",
    "    \n",
    "Aquestion += 1\n",
    "questions= input (\"4) what is meaning this word OS ?\") \n",
    "if questions.lower() == \"Operating System\" :\n",
    "     score += 1\n",
    "     print (\"correct :)\")\n",
    "else:\n",
    "     print (\"uncorrect :(\")    \n",
    " \n",
    "    \n",
    "Aquestion += 1\n",
    "questions= input (\"5) What is the linux operating system ?\") \n",
    "if questions.lower() == \"Kernel\" :\n",
    "     score += 1\n",
    "     print (\"correct :)\")\n",
    "else:\n",
    "     print (\"uncorrect :(\")\n",
    "     \n",
    "     \n",
    "\n",
    "print(f\"you got {score} answer correct!\")\n",
    "print(f\"you got {(score/Aquestion) * 100} %\")\n"
   ]
  },
  {
   "cell_type": "code",
   "execution_count": null,
   "id": "87ffe918",
   "metadata": {},
   "outputs": [],
   "source": []
  }
 ],
 "metadata": {
  "kernelspec": {
   "display_name": "Python 3 (ipykernel)",
   "language": "python",
   "name": "python3"
  },
  "language_info": {
   "codemirror_mode": {
    "name": "ipython",
    "version": 3
   },
   "file_extension": ".py",
   "mimetype": "text/x-python",
   "name": "python",
   "nbconvert_exporter": "python",
   "pygments_lexer": "ipython3",
   "version": "3.9.12"
  }
 },
 "nbformat": 4,
 "nbformat_minor": 5
}
